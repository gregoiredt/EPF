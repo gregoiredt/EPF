{
 "cells": [
  {
   "cell_type": "markdown",
   "id": "72d10641",
   "metadata": {},
   "source": [
    "# Downloading the prediction data"
   ]
  },
  {
   "cell_type": "code",
   "execution_count": 2,
   "id": "3a38dc6c",
   "metadata": {},
   "outputs": [],
   "source": [
    "import pandas as pd\n",
    "import numpy as np\n",
    "import os, sys\n",
    "from models.evaluate import *\n",
    "import itertools\n",
    "import seaborn as sns\n",
    "import matplotlib.pyplot as plt\n",
    "DIR = '/Users/user/Documents/Archive Grégoire/greg stage/results'\n",
    "DIR_RES = '/Users/user/Documents/Archive Grégoire/greg stage/results/res'\n",
    "DIR_AGG = '/Users/user/Documents/Archive Grégoire/greg stage/results/agg'\n",
    "DIR_AGG_R = '/Users/user/Documents/Archive Grégoire/greg stage/profoagg/results'\n",
    "\n"
   ]
  },
  {
   "cell_type": "code",
   "execution_count": 7,
   "id": "51b43273",
   "metadata": {},
   "outputs": [],
   "source": [
    "df_tot = pd.DataFrame()\n",
    "\n",
    "for time_mode in ['day']: # 'week', 'day'\n",
    "    for cqr_mode in ['no_cqr']:  # 'cqr', 'no_cqr'\n",
    "        \n",
    "        dir_ = os.path.join(DIR, time_mode)\n",
    "        dir_ = os.path.join(dir_, cqr_mode)\n",
    "        list_files = [i for i in os.listdir(dir_) if not ('RAW' in i or 'preproc' in i)]\n",
    "        \n",
    "        for file in list_files:\n",
    "            df = pd.read_csv(os.path.join(dir_, file))\n",
    "            if 'Unnamed: 0' in df.columns:\n",
    "                df.drop(columns=['Unnamed: 0'], inplace=True)\n",
    "            df_tot = df_tot.append(df)\n",
    "    \n",
    "            \n",
    "        "
   ]
  },
  {
   "cell_type": "markdown",
   "id": "23dddfb1",
   "metadata": {},
   "source": [
    "# Test"
   ]
  },
  {
   "cell_type": "code",
   "execution_count": 3,
   "id": "d599b2ae",
   "metadata": {},
   "outputs": [
    {
     "name": "stderr",
     "output_type": "stream",
     "text": [
      "2022-12-07 10:10:41.123 | INFO     | main:load_data:40 - Loading file...\n",
      "2022-12-07 10:10:41.248 | INFO     | main:load_data:48 - Date of Nans : ['2016-01-01' '2016-01-02' '2016-01-03' '2016-01-04' '2016-01-05'\n",
      " '2016-01-06' '2016-01-07' '2016-01-08' '2016-01-09' '2016-01-10']\n"
     ]
    }
   ],
   "source": [
    "from main import load_data\n",
    "\n",
    "df, features = load_data(filename_extension='2016_2021')"
   ]
  },
  {
   "cell_type": "code",
   "execution_count": 4,
   "id": "17933440",
   "metadata": {},
   "outputs": [],
   "source": [
    "import main\n",
    "from models.models import get_quantile_models"
   ]
  },
  {
   "cell_type": "code",
   "execution_count": 5,
   "id": "35a7b20b",
   "metadata": {},
   "outputs": [],
   "source": [
    "list_models = get_quantile_models(features=features, quantiles=[1], models='lasso1')"
   ]
  },
  {
   "cell_type": "code",
   "execution_count": 6,
   "id": "c4ff22ee",
   "metadata": {},
   "outputs": [],
   "source": [
    "model = list_models[0]"
   ]
  },
  {
   "cell_type": "code",
   "execution_count": 8,
   "id": "2b721df1",
   "metadata": {},
   "outputs": [
    {
     "ename": "NameError",
     "evalue": "name 'q_low' is not defined",
     "output_type": "error",
     "traceback": [
      "\u001b[0;31m---------------------------------------------------------------------------\u001b[0m",
      "\u001b[0;31mNameError\u001b[0m                                 Traceback (most recent call last)",
      "\u001b[0;32m/var/folders/4p/w493blx52r9152kd0w4310n00000gn/T/ipykernel_3589/2705527355.py\u001b[0m in \u001b[0;36m<module>\u001b[0;34m\u001b[0m\n\u001b[1;32m      4\u001b[0m \u001b[0mmodel_quantile_low\u001b[0m\u001b[0;34m,\u001b[0m \u001b[0mmodel_quantile_high\u001b[0m \u001b[0;34m=\u001b[0m \u001b[0mclone\u001b[0m\u001b[0;34m(\u001b[0m\u001b[0mmodel\u001b[0m\u001b[0;34m.\u001b[0m\u001b[0mpipeline\u001b[0m\u001b[0;34m[\u001b[0m\u001b[0;36m0\u001b[0m\u001b[0;34m]\u001b[0m\u001b[0;34m)\u001b[0m\u001b[0;34m,\u001b[0m \u001b[0mclone\u001b[0m\u001b[0;34m(\u001b[0m\u001b[0mmodel\u001b[0m\u001b[0;34m.\u001b[0m\u001b[0mpipeline\u001b[0m\u001b[0;34m[\u001b[0m\u001b[0;36m0\u001b[0m\u001b[0;34m]\u001b[0m\u001b[0;34m)\u001b[0m\u001b[0;34m\u001b[0m\u001b[0m\n\u001b[1;32m      5\u001b[0m \u001b[0;34m\u001b[0m\u001b[0m\n\u001b[0;32m----> 6\u001b[0;31m \u001b[0mmodel_quantile_low\u001b[0m\u001b[0;34m.\u001b[0m\u001b[0mset_params\u001b[0m\u001b[0;34m(\u001b[0m\u001b[0mquantile\u001b[0m\u001b[0;34m=\u001b[0m\u001b[0mq_low\u001b[0m \u001b[0;34m/\u001b[0m \u001b[0;36m100\u001b[0m\u001b[0;34m)\u001b[0m\u001b[0;34m\u001b[0m\u001b[0m\n\u001b[0m\u001b[1;32m      7\u001b[0m \u001b[0mmodel_quantile_high\u001b[0m\u001b[0;34m.\u001b[0m\u001b[0mset_params\u001b[0m\u001b[0;34m(\u001b[0m\u001b[0mquantile\u001b[0m\u001b[0;34m=\u001b[0m\u001b[0mq_high\u001b[0m \u001b[0;34m/\u001b[0m \u001b[0;36m100\u001b[0m\u001b[0;34m)\u001b[0m\u001b[0;34m\u001b[0m\u001b[0m\n\u001b[1;32m      8\u001b[0m \u001b[0;34m\u001b[0m\u001b[0m\n",
      "\u001b[0;31mNameError\u001b[0m: name 'q_low' is not defined"
     ]
    }
   ],
   "source": [
    "from sklearn.base import clone\n",
    "\n",
    "\n",
    "model_quantile_low, model_quantile_high = clone(model.pipeline[0]), clone(model.pipeline[0])\n",
    "\n",
    "model_quantile_low.set_params(quantile=q_low / 100)\n",
    "model_quantile_high.set_params(quantile=q_high / 100)\n",
    "\n",
    "model_quantile_low.fit(X, y)\n",
    "model_quantile_high.fit(X, y)"
   ]
  },
  {
   "cell_type": "code",
   "execution_count": 9,
   "id": "bed39294",
   "metadata": {},
   "outputs": [
    {
     "data": {
      "text/plain": [
       "QuantileRegressor(alpha=1, quantile=0.01, solver='highs')"
      ]
     },
     "execution_count": 9,
     "metadata": {},
     "output_type": "execute_result"
    }
   ],
   "source": [
    "model_quantile_low.named_steps['rgr'].set_params(alpha=1)"
   ]
  },
  {
   "cell_type": "code",
   "execution_count": 10,
   "id": "57be1543",
   "metadata": {},
   "outputs": [
    {
     "data": {
      "text/plain": [
       "{'alpha': 1,\n",
       " 'fit_intercept': True,\n",
       " 'quantile': 0.01,\n",
       " 'solver': 'highs',\n",
       " 'solver_options': None}"
      ]
     },
     "execution_count": 10,
     "metadata": {},
     "output_type": "execute_result"
    }
   ],
   "source": [
    "model_quantile_low.named_steps['rgr'].get_params()"
   ]
  },
  {
   "cell_type": "code",
   "execution_count": 17,
   "id": "e1707d09",
   "metadata": {},
   "outputs": [
    {
     "data": {
      "text/plain": [
       "RandomForestQuantileRegressor(max_depth=10, n_estimators=400, random_state=0)"
      ]
     },
     "execution_count": 17,
     "metadata": {},
     "output_type": "execute_result"
    }
   ],
   "source": [
    "model_quantile_low.named_steps['rgr']"
   ]
  },
  {
   "cell_type": "code",
   "execution_count": 15,
   "id": "59b39161",
   "metadata": {},
   "outputs": [
    {
     "data": {
      "text/plain": [
       "'Lasso1QuantilePER90_1'"
      ]
     },
     "execution_count": 15,
     "metadata": {},
     "output_type": "execute_result"
    }
   ],
   "source": [
    "model.name"
   ]
  },
  {
   "cell_type": "code",
   "execution_count": null,
   "id": "bfb4ea67",
   "metadata": {},
   "outputs": [],
   "source": [
    "from sk"
   ]
  },
  {
   "cell_type": "raw",
   "id": "d73033f5",
   "metadata": {},
   "source": []
  }
 ],
 "metadata": {
  "kernelspec": {
   "display_name": "Python 3 (ipykernel)",
   "language": "python",
   "name": "python3"
  },
  "language_info": {
   "codemirror_mode": {
    "name": "ipython",
    "version": 3
   },
   "file_extension": ".py",
   "mimetype": "text/x-python",
   "name": "python",
   "nbconvert_exporter": "python",
   "pygments_lexer": "ipython3",
   "version": "3.7.0"
  }
 },
 "nbformat": 4,
 "nbformat_minor": 5
}
